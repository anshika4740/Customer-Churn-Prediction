{
  "nbformat": 4,
  "nbformat_minor": 0,
  "metadata": {
    "colab": {
      "provenance": []
    },
    "kernelspec": {
      "name": "python3",
      "display_name": "Python 3"
    },
    "language_info": {
      "name": "python"
    }
  },
  "cells": [
    {
      "cell_type": "code",
      "execution_count": 1,
      "metadata": {
        "id": "wpUtxPjZUBIy"
      },
      "outputs": [],
      "source": [
        "import pandas as pd\n",
        "from sklearn.model_selection import train_test_split\n",
        "from sklearn.preprocessing import LabelEncoder\n",
        "\n",
        "df = pd.read_csv(\"/content/sample_data/WA_Fn-UseC_-Telco-Customer-Churn.csv\")\n",
        "df.drop('customerID', axis=1, inplace=True)\n",
        "\n",
        "# Convert TotalCharges to numeric\n",
        "df['TotalCharges'] = pd.to_numeric(df['TotalCharges'], errors='coerce')\n",
        "df.dropna(inplace=True)\n",
        "\n",
        "# Encode categorical features\n",
        "for column in df.select_dtypes(include='object'):\n",
        "    if df[column].nunique() == 2:\n",
        "        df[column] = LabelEncoder().fit_transform(df[column])\n",
        "    else:\n",
        "        df = pd.get_dummies(df, columns=[column])\n",
        "\n",
        "# Split features and target\n",
        "X = df.drop('Churn', axis=1)\n",
        "y = df['Churn']\n"
      ]
    },
    {
      "cell_type": "code",
      "source": [
        "from imblearn.over_sampling import SMOTE\n",
        "\n",
        "smote = SMOTE(random_state=42)\n",
        "X_resampled, y_resampled = smote.fit_resample(X, y)\n"
      ],
      "metadata": {
        "id": "rHu3mbAjUjY0"
      },
      "execution_count": 2,
      "outputs": []
    },
    {
      "cell_type": "code",
      "source": [
        "from sklearn.linear_model import LogisticRegression\n",
        "from sklearn.tree import DecisionTreeClassifier\n",
        "from sklearn.metrics import classification_report, roc_auc_score\n",
        "\n",
        "X_train, X_test, y_train, y_test = train_test_split(X_resampled, y_resampled, test_size=0.2, random_state=42)\n",
        "\n",
        "# Logistic Regression\n",
        "log_model = LogisticRegression(max_iter=1000)\n",
        "log_model.fit(X_train, y_train)\n",
        "log_pred = log_model.predict(X_test)\n",
        "\n",
        "# Decision Tree\n",
        "tree_model = DecisionTreeClassifier()\n",
        "tree_model.fit(X_train, y_train)\n",
        "tree_pred = tree_model.predict(X_test)\n",
        "\n",
        "print(\"Logistic Regression:\")\n",
        "print(classification_report(y_test, log_pred))\n",
        "print(\"AUC:\", roc_auc_score(y_test, log_model.predict_proba(X_test)[:,1]))\n",
        "\n",
        "print(\"\\nDecision Tree:\")\n",
        "print(classification_report(y_test, tree_pred))\n",
        "print(\"AUC:\", roc_auc_score(y_test, tree_model.predict_proba(X_test)[:,1]))\n"
      ],
      "metadata": {
        "colab": {
          "base_uri": "https://localhost:8080/"
        },
        "id": "BrM3NCGyUpSk",
        "outputId": "af0f096c-a343-47dc-c035-03cb646a22e0"
      },
      "execution_count": 3,
      "outputs": [
        {
          "output_type": "stream",
          "name": "stdout",
          "text": [
            "Logistic Regression:\n",
            "              precision    recall  f1-score   support\n",
            "\n",
            "           0       0.84      0.86      0.85      1037\n",
            "           1       0.85      0.83      0.84      1029\n",
            "\n",
            "    accuracy                           0.84      2066\n",
            "   macro avg       0.84      0.84      0.84      2066\n",
            "weighted avg       0.84      0.84      0.84      2066\n",
            "\n",
            "AUC: 0.9292733486837357\n",
            "\n",
            "Decision Tree:\n",
            "              precision    recall  f1-score   support\n",
            "\n",
            "           0       0.79      0.82      0.81      1037\n",
            "           1       0.81      0.79      0.80      1029\n",
            "\n",
            "    accuracy                           0.80      2066\n",
            "   macro avg       0.80      0.80      0.80      2066\n",
            "weighted avg       0.80      0.80      0.80      2066\n",
            "\n",
            "AUC: 0.8051614088258254\n"
          ]
        },
        {
          "output_type": "stream",
          "name": "stderr",
          "text": [
            "/usr/local/lib/python3.11/dist-packages/sklearn/linear_model/_logistic.py:465: ConvergenceWarning: lbfgs failed to converge (status=1):\n",
            "STOP: TOTAL NO. OF ITERATIONS REACHED LIMIT.\n",
            "\n",
            "Increase the number of iterations (max_iter) or scale the data as shown in:\n",
            "    https://scikit-learn.org/stable/modules/preprocessing.html\n",
            "Please also refer to the documentation for alternative solver options:\n",
            "    https://scikit-learn.org/stable/modules/linear_model.html#logistic-regression\n",
            "  n_iter_i = _check_optimize_result(\n"
          ]
        }
      ]
    },
    {
      "cell_type": "markdown",
      "source": [
        "| Metric    | Description                      |\n",
        "| --------- | -------------------------------- |\n",
        "| Accuracy  | % of correct predictions         |\n",
        "| Precision | TP / (TP + FP)                   |\n",
        "| Recall    | TP / (TP + FN)                   |\n",
        "| F1-Score  | Balance between precision/recall |\n",
        "| AUC-ROC   | Model's ability to distinguish   |\n"
      ],
      "metadata": {
        "id": "sGe3Pem1Uusv"
      }
    }
  ]
}